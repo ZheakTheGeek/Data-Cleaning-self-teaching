{
 "cells": [
  {
   "cell_type": "code",
   "execution_count": 29,
   "id": "contrary-inspiration",
   "metadata": {},
   "outputs": [
    {
     "name": "stdout",
     "output_type": "stream",
     "text": [
      "              age         sex          cp      trtbps        chol         fbs  \\\n",
      "count  303.000000  303.000000  303.000000  303.000000  303.000000  303.000000   \n",
      "mean    54.366337    0.683168    0.966997  131.623762  246.264026    0.148515   \n",
      "std      9.082101    0.466011    1.032052   17.538143   51.830751    0.356198   \n",
      "min     29.000000    0.000000    0.000000   94.000000  126.000000    0.000000   \n",
      "25%     47.500000    0.000000    0.000000  120.000000  211.000000    0.000000   \n",
      "50%     55.000000    1.000000    1.000000  130.000000  240.000000    0.000000   \n",
      "75%     61.000000    1.000000    2.000000  140.000000  274.500000    0.000000   \n",
      "max     77.000000    1.000000    3.000000  200.000000  564.000000    1.000000   \n",
      "\n",
      "          restecg    thalachh        exng     oldpeak         slp         caa  \\\n",
      "count  303.000000  303.000000  303.000000  303.000000  303.000000  303.000000   \n",
      "mean     0.528053  149.646865    0.326733    1.039604    1.399340    0.729373   \n",
      "std      0.525860   22.905161    0.469794    1.161075    0.616226    1.022606   \n",
      "min      0.000000   71.000000    0.000000    0.000000    0.000000    0.000000   \n",
      "25%      0.000000  133.500000    0.000000    0.000000    1.000000    0.000000   \n",
      "50%      1.000000  153.000000    0.000000    0.800000    1.000000    0.000000   \n",
      "75%      1.000000  166.000000    1.000000    1.600000    2.000000    1.000000   \n",
      "max      2.000000  202.000000    1.000000    6.200000    2.000000    4.000000   \n",
      "\n",
      "            thall      output  \n",
      "count  303.000000  303.000000  \n",
      "mean     2.313531    0.544554  \n",
      "std      0.612277    0.498835  \n",
      "min      0.000000    0.000000  \n",
      "25%      2.000000    0.000000  \n",
      "50%      2.000000    1.000000  \n",
      "75%      3.000000    1.000000  \n",
      "max      3.000000    1.000000  \n"
     ]
    },
    {
     "data": {
      "text/plain": [
       "(302, 14)"
      ]
     },
     "execution_count": 29,
     "metadata": {},
     "output_type": "execute_result"
    }
   ],
   "source": [
    "# Data cleaning for Kaggle project 1 - \n",
    "\n",
    "import pandas as pd\n",
    "\n",
    "df = pd.read_csv('heart.csv')\n",
    "df2 = pd.read_csv('o2Saturation.csv')\n",
    "\n",
    "\n",
    "\n",
    "\n",
    "#shows us a table of collumns and rows of our data, shows the mean, std, min, max, interquartile range\n",
    "\n",
    "\n",
    "print(df.describe())\n",
    "\n",
    "#find any null values in our data\n",
    "df.isnull().any()\n",
    "\n",
    "#find the % of null values in our data set (this is more useful in raw data than available data)\n",
    "# currently this line shows that no lines in our data set have null values, and all values are included within this data set\n",
    "df.isnull().sum()/df.shape[0]\n",
    "\n",
    "## drop duplicates\n",
    "\n",
    "df.drop_duplicates(inplace = True)\n",
    "# using the inplace = TRUE method replaces all null values with the dropped method, meaning that they are removed in a method similar to .pop()\n",
    "\n",
    "#remove all null collums over a threshold, again, not useful for this PARTICULAR dataset, as there are no null values\n",
    "#but incredibly important for larger samples where data could be missing\n",
    "thresh = len(df)*.6\n",
    "\n",
    "# the axis here refers to whether or not we are dropping collumns or rows, in this case, we will drop collumns with values that are too low\n",
    "#row = 0, collumn = 1\n",
    "# if the data has too many null values, it is simply not relevant enough to the study to inclue (it will skew the data disproportionately to reality,\n",
    "# or it doesn't corelate at all)\n",
    "df.dropna(thresh=thresh, axis =1).shape"
   ]
  },
  {
   "cell_type": "code",
   "execution_count": null,
   "id": "simplified-frame",
   "metadata": {},
   "outputs": [],
   "source": []
  },
  {
   "cell_type": "code",
   "execution_count": null,
   "id": "interracial-estate",
   "metadata": {},
   "outputs": [],
   "source": []
  }
 ],
 "metadata": {
  "kernelspec": {
   "display_name": "Python 3",
   "language": "python",
   "name": "python3"
  },
  "language_info": {
   "codemirror_mode": {
    "name": "ipython",
    "version": 3
   },
   "file_extension": ".py",
   "mimetype": "text/x-python",
   "name": "python",
   "nbconvert_exporter": "python",
   "pygments_lexer": "ipython3",
   "version": "3.9.2"
  }
 },
 "nbformat": 4,
 "nbformat_minor": 5
}
