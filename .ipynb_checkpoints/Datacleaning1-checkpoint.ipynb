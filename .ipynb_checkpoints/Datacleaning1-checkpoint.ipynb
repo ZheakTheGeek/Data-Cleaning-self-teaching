{
 "cells": [
  {
   "cell_type": "code",
   "execution_count": 23,
   "id": "hired-headquarters",
   "metadata": {},
   "outputs": [],
   "source": [
    "# Data cleaning for Kaggle project 1 - \n",
    "\n",
    "import pandas as pd\n",
    "\n",
    "df = pd.read_csv('heart.csv')\n",
    "df2 = pd.read_csv('o2Saturation.csv')\n",
    "\n",
    "\n",
    "\n",
    "\n",
    "#shows us a table of collumns and rows of our data, shows the mean, std, min, max, interquartile range\n",
    "\n",
    "\n",
    "df.describe()\n",
    "\n",
    "#find any null values in our data\n",
    "df.isnull().any()\n",
    "\n",
    "#find the % of null values in our data set (this is more useful in raw data than available data)\n",
    "# currently this line shows that no lines in our data set have null values, and all values are included within this data set\n",
    "df.isnull().sum()/df.shape[0]\n",
    "\n",
    "\n",
    "## drop duplicates (this is NOT great for machine learning, as sometimes having NO data value is data in itself, for this project we will glaze over this point as it is solely for cleaning data)\n",
    "df.drop_duplicates(inplace = True)\n",
    "\n"
   ]
  },
  {
   "cell_type": "code",
   "execution_count": null,
   "id": "fixed-compact",
   "metadata": {},
   "outputs": [],
   "source": []
  }
 ],
 "metadata": {
  "kernelspec": {
   "display_name": "Python 3",
   "language": "python",
   "name": "python3"
  },
  "language_info": {
   "codemirror_mode": {
    "name": "ipython",
    "version": 3
   },
   "file_extension": ".py",
   "mimetype": "text/x-python",
   "name": "python",
   "nbconvert_exporter": "python",
   "pygments_lexer": "ipython3",
   "version": "3.9.2"
  }
 },
 "nbformat": 4,
 "nbformat_minor": 5
}
