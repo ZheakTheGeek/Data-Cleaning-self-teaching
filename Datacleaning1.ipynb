{
 "cells": [
  {
   "cell_type": "code",
   "execution_count": 20,
   "id": "illegal-status",
   "metadata": {},
   "outputs": [
    {
     "data": {
      "text/plain": [
       "age         0.0\n",
       "sex         0.0\n",
       "cp          0.0\n",
       "trtbps      0.0\n",
       "chol        0.0\n",
       "fbs         0.0\n",
       "restecg     0.0\n",
       "thalachh    0.0\n",
       "exng        0.0\n",
       "oldpeak     0.0\n",
       "slp         0.0\n",
       "caa         0.0\n",
       "thall       0.0\n",
       "output      0.0\n",
       "dtype: float64"
      ]
     },
     "execution_count": 20,
     "metadata": {},
     "output_type": "execute_result"
    }
   ],
   "source": [
    "# Data cleaning for Kaggle project 1 - \n",
    "\n",
    "import pandas as pd\n",
    "\n",
    "df = pd.read_csv('heart.csv')\n",
    "df2 = pd.read_csv('o2Saturation.csv')\n",
    "\n",
    "\n",
    "\n",
    "\n",
    "#shows us a table of collumns and rows of our data, shows the mean, std, min, max, interquartile range\n",
    "\n",
    "\n",
    "df.describe()\n",
    "\n",
    "#find any null values in our data\n",
    "df.isnull().any()\n",
    "\n",
    "#find the % of null values in our data set (this is more useful in raw data than available data)\n",
    "# currently this line shows that no lines in our data set have null values, and all values are included within this data set\n",
    "df.isnull().sum()/df.shape[0]\n",
    "\n",
    "\n",
    "## drop duplicates\n",
    "# df.drop_duplicates(implace = True)\n",
    "\n"
   ]
  },
  {
   "cell_type": "code",
   "execution_count": null,
   "id": "tamil-nurse",
   "metadata": {},
   "outputs": [],
   "source": []
  }
 ],
 "metadata": {
  "kernelspec": {
   "display_name": "Python 3",
   "language": "python",
   "name": "python3"
  },
  "language_info": {
   "codemirror_mode": {
    "name": "ipython",
    "version": 3
   },
   "file_extension": ".py",
   "mimetype": "text/x-python",
   "name": "python",
   "nbconvert_exporter": "python",
   "pygments_lexer": "ipython3",
   "version": "3.9.2"
  }
 },
 "nbformat": 4,
 "nbformat_minor": 5
}
